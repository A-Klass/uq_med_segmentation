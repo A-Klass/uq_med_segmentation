{
 "cells": [
  {
   "cell_type": "code",
   "execution_count": 40,
   "metadata": {},
   "outputs": [],
   "source": [
    "import matplotlib.pyplot as plt\n",
    "import numpy as np\n",
    "import nibabel as nib\n",
    "import os"
   ]
  },
  {
   "cell_type": "code",
   "execution_count": 3,
   "metadata": {},
   "outputs": [],
   "source": [
    "def load_processed_data(file_processed_images: str = None,\n",
    "                        file_processed_masks: str = None):\n",
    "    imgs= np.load(os.path.join(file_processed_images))\n",
    "    masks =np.load(os.path.join(file_processed_masks))\n",
    "    return imgs, masks"
   ]
  },
  {
   "cell_type": "code",
   "execution_count": 4,
   "metadata": {},
   "outputs": [],
   "source": [
    "def get_clean_path(path: str):\n",
    "    return os.path.normpath(path.replace(\"//\",\"/\").replace(\"/r\", \"/r\").replace(\"\\n\", \"/n\"))\n",
    "\n",
    "def get_substrings(path_to_folder: list[str], str_match: str = '_liver') -> list[str]:\n",
    "    \"\"\"\n",
    "    In a folder, identify all files which include the substring str_match.\n",
    "    \n",
    "    Args:\n",
    "        path_to_folder (list[str]): list of strings pointing to a paths.\n",
    "        str_match (str): substring to look for in path_to_folder.\n",
    "    Returns:\n",
    "        List of strings of file names that match str_match\n",
    "    \"\"\"\n",
    "    list_with_matched_substrings = list(filter(lambda x: str_match in x, path_to_folder))"
   ]
  },
  {
   "cell_type": "code",
   "execution_count": 17,
   "metadata": {},
   "outputs": [
    {
     "data": {
      "text/plain": [
       "'F:/MA/lits2017_data/full_dataset/raw/volume-31.nii.gz'"
      ]
     },
     "execution_count": 17,
     "metadata": {},
     "output_type": "execute_result"
    }
   ],
   "source": [
    "data_path_raw_train = \"F:/MA/lits2017_data/full_dataset/raw/\"\n"
   ]
  },
  {
   "cell_type": "code",
   "execution_count": 54,
   "metadata": {},
   "outputs": [],
   "source": [
    "data_path_raw_train = \"F:/MA/lits2017_data/full_dataset/raw\"\n",
    "data_path_processed_train = \"F:/MA/lits2017_data/full_dataset/processed\""
   ]
  },
  {
   "cell_type": "code",
   "execution_count": 55,
   "metadata": {},
   "outputs": [],
   "source": [
    "imgs, masks = load_processed_data(\"F:/MA/lits2017_data/full_dataset/processed/imgs_train.npy\",\n",
    "                                  \"F:/MA/lits2017_data/full_dataset/processed/masks_train.npy\")"
   ]
  },
  {
   "cell_type": "code",
   "execution_count": 62,
   "metadata": {},
   "outputs": [
    {
     "name": "stdout",
     "output_type": "stream",
     "text": [
      "(13713, 256, 256)\n"
     ]
    }
   ],
   "source": [
    "print(imgs.shape)"
   ]
  },
  {
   "cell_type": "code",
   "execution_count": 61,
   "metadata": {},
   "outputs": [
    {
     "name": "stdout",
     "output_type": "stream",
     "text": [
      "291\n",
      "26883\n",
      "-4247\n"
     ]
    }
   ],
   "source": [
    "print(imgs.)\n",
    "abc = imgs.flatten()\n",
    "print((abc >5000).sum())\n",
    "print(imgs.flatten().max())\n",
    "print(imgs.flatten().min())"
   ]
  },
  {
   "cell_type": "code",
   "execution_count": 56,
   "metadata": {},
   "outputs": [
    {
     "data": {
      "image/png": "[encoded data removed]",
      "text/plain": [
       "<Figure size 432x288 with 1 Axes>"
      ]
     },
     "metadata": {
      "needs_background": "light"
     },
     "output_type": "display_data"
    }
   ],
   "source": [
    "plt.hist(imgs.flatten(), bins=50, color='c')\n",
    "plt.xlabel(\"Hounsfield Units (HU)\")\n",
    "plt.ylabel(\"Frequency\")\n",
    "plt.show()"
   ]
  },
  {
   "cell_type": "code",
   "execution_count": 44,
   "metadata": {},
   "outputs": [
    {
     "data": {
      "image/png": "[encoded data removed]",
      "text/plain": [
       "<Figure size 432x288 with 1 Axes>"
      ]
     },
     "metadata": {
      "needs_background": "light"
     },
     "output_type": "display_data"
    }
   ],
   "source": [
    "# get overview of number of axial slices\n",
    "filenames = os.listdir(data_path_raw_train)\n",
    "n = os.listdir(data_path_raw_train).__len__() / 2\n",
    "num_slices = []\n",
    "for i in range(0, int(n)):\n",
    "    image_i = nib.load(os.path.join(data_path_raw_train, filenames[i]))\n",
    "    num_slices.append(image_i.shape[2])\n",
    "\n",
    "plt.hist(num_slices, bins=40, color='c')\n",
    "plt.xlabel(\"number of slices\")\n",
    "plt.ylabel(\"Frequency\")\n",
    "plt.show()"
   ]
  },
  {
   "cell_type": "code",
   "execution_count": 50,
   "metadata": {},
   "outputs": [
    {
     "name": "stdout",
     "output_type": "stream",
     "text": [
      "(512, 512, 91)\n",
      "(512, 512, 91)\n",
      "(512, 512, 91)\n"
     ]
    }
   ],
   "source": [
    "# livers = nib.load(os.path.join(data_path_raw_train, 'ircad_e01_liver.nii.gz'))\n",
    "image1 =  nib.load(os.path.join(data_path_raw_train, 'volume-31.nii'))\n",
    "print(image1.shape)\n",
    "\n",
    "mask1 = nib.load(os.path.join(data_path_raw_train, 'segmentation-31.nii'))\n",
    "print(mask1.shape)\n",
    "\n",
    "# print(os.path.join(data_path_raw, liver))\n",
    "abcfdata = image1.get_fdata()\n",
    "\n",
    "# which_nonzero = []\n",
    "# for idx in range(0, abcfdata.__len__()):\n",
    "#     if abcfdata[idx].sum() > float(0.0):\n",
    "#         which_nonzero.append(abcfdata[idx])\n",
    "\n",
    "# # print(which_nonzero.__len__())\n",
    "# print(abcfdata.__len__())\n",
    "# print(which_nonzero)\n",
    "# for idx in range(0, abcfdata.__len__()):\n",
    "#     if abcfdata[idx] is which_nonzero[0]:\n",
    "#         5+5\n",
    "#         # print(idx)\n",
    "        \n",
    "# for idx in range(0, abcfdata[74].__len__()):\n",
    "#     if abcfdata[74][idx].sum() > float(0.0):\n",
    "#         # print(idx)\n",
    "#         1+1\n",
    "        \n",
    "# print(abcfdata[74][228])\n",
    "# np.unique(abcfdata[74][228])"
   ]
  },
  {
   "cell_type": "code",
   "execution_count": 75,
   "metadata": {},
   "outputs": [
    {
     "name": "stdout",
     "output_type": "stream",
     "text": [
      "0.0\n"
     ]
    },
    {
     "data": {
      "text/plain": [
       "1"
      ]
     },
     "execution_count": 75,
     "metadata": {},
     "output_type": "execute_result"
    }
   ],
   "source": [
    "training_mask = nib.load(os.path.join(data_path_raw_train, 'ircad_e02_liver.nii.gz'))\n",
    "training_image = nib.load(os.path.join(data_path_raw_train, 'ircad_e02_orig.nii.gz')) \n",
    "training_mask.shape\n",
    "mask_2d = np.array(training_mask.get_fdata()[::2, ::2, 27]).sum()\n",
    "print(mask_2d.sum())\n",
    "len(np.unique(mask_2d)) != 1\n",
    "len(np.unique(mask_2d)) "
   ]
  },
  {
   "cell_type": "code",
   "execution_count": 76,
   "metadata": {},
   "outputs": [
    {
     "data": {
      "text/plain": [
       "(512, 512, 172)"
      ]
     },
     "execution_count": 76,
     "metadata": {},
     "output_type": "execute_result"
    }
   ],
   "source": [
    "training_mask.shape"
   ]
  },
  {
   "cell_type": "code",
   "execution_count": 74,
   "metadata": {},
   "outputs": [
    {
     "name": "stdout",
     "output_type": "stream",
     "text": [
      "(1647, 256, 256)\n",
      "(1647, 256, 256)\n"
     ]
    }
   ],
   "source": [
    "masks, imgs = load_processed_data('F:/MA/ircad-dataset/preprocessed/train/masks_train.npy', 'F:/MA/ircad-dataset/preprocessed/train/imgs_train.npy')\n",
    "print(masks.shape)\n",
    "print(imgs.shape)"
   ]
  },
  {
   "cell_type": "code",
   "execution_count": 71,
   "metadata": {},
   "outputs": [
    {
     "name": "stdout",
     "output_type": "stream",
     "text": [
      "0\n",
      "1\n",
      "0\n",
      "255\n"
     ]
    }
   ],
   "source": [
    "print(masks.flatten().min())\n",
    "print(masks.flatten().max())\n",
    "print(imgs.flatten().min())\n",
    "print(imgs.flatten().max())"
   ]
  },
  {
   "cell_type": "code",
   "execution_count": 72,
   "metadata": {},
   "outputs": [
    {
     "data": {
      "text/plain": [
       "array([0, 0, 0, ..., 0, 0, 0], dtype=uint8)"
      ]
     },
     "execution_count": 72,
     "metadata": {},
     "output_type": "execute_result"
    }
   ],
   "source": [
    "imgs.flatten()"
   ]
  },
  {
   "cell_type": "code",
   "execution_count": 61,
   "metadata": {},
   "outputs": [
    {
     "name": "stdout",
     "output_type": "stream",
     "text": [
      "0.0\n",
      "1.0\n",
      "-1024.0\n",
      "1023.0\n"
     ]
    }
   ],
   "source": [
    "print(training_mask.get_fdata().min())\n",
    "print(training_mask.get_fdata().max())\n",
    "\n",
    "print(training_image.get_fdata().min())\n",
    "print(training_image.get_fdata().max())\n",
    "\n",
    "# checks out"
   ]
  },
  {
   "cell_type": "code",
   "execution_count": 63,
   "metadata": {},
   "outputs": [
    {
     "data": {
      "image/png": "[encoded data removed]",
      "text/plain": [
       "<Figure size 432x288 with 1 Axes>"
      ]
     },
     "metadata": {
      "needs_background": "light"
     },
     "output_type": "display_data"
    }
   ],
   "source": [
    "plt.hist(training_image.get_fdata().flatten(), bins=50, color='c')\n",
    "plt.xlabel(\"Hounsfield Units (HU)\")\n",
    "plt.ylabel(\"Frequency\")\n",
    "plt.show()"
   ]
  },
  {
   "cell_type": "code",
   "execution_count": 40,
   "metadata": {},
   "outputs": [],
   "source": [
    "\n",
    "def show_slices(slices):\n",
    "   \"\"\" Function to display row of image slices \"\"\"\n",
    "   fig, axes = plt.subplots(1, len(slices))\n",
    "   for i, slice in enumerate(slices):\n",
    "       axes[i].imshow(slice.T, cmap=\"gray\", origin=\"lower\")"
   ]
  },
  {
   "cell_type": "code",
   "execution_count": null,
   "metadata": {},
   "outputs": [],
   "source": []
  },
  {
   "cell_type": "code",
   "execution_count": 48,
   "metadata": {},
   "outputs": [
    {
     "data": {
      "text/plain": [
       "(512, 512, 129)"
      ]
     },
     "execution_count": 48,
     "metadata": {},
     "output_type": "execute_result"
    }
   ],
   "source": [
    "training_image.shape"
   ]
  },
  {
   "cell_type": "code",
   "execution_count": 1,
   "metadata": {},
   "outputs": [
    {
     "ename": "NameError",
     "evalue": "name 'training_image' is not defined",
     "output_type": "error",
     "traceback": [
      "\u001b[1;31m---------------------------------------------------------------------------\u001b[0m",
      "\u001b[1;31mNameError\u001b[0m                                 Traceback (most recent call last)",
      "\u001b[1;32mf:\\MA\\uq_med_segmentation\\intro_nifti\\sandbox.ipynb Cell 15'\u001b[0m in \u001b[0;36m<cell line: 1>\u001b[1;34m()\u001b[0m\n\u001b[1;32m----> <a href='vscode-notebook-cell:/f%3A/MA/uq_med_segmentation/intro_nifti/sandbox.ipynb#ch0000014?line=0'>1</a>\u001b[0m training_image\u001b[39m.\u001b[39mget_fdata()[\u001b[39m100\u001b[39m, :, :]\u001b[39m.\u001b[39mshape\n",
      "\u001b[1;31mNameError\u001b[0m: name 'training_image' is not defined"
     ]
    }
   ],
   "source": [
    "training_image.get_fdata()[100, :, :].shape"
   ]
  },
  {
   "cell_type": "code",
   "execution_count": 50,
   "metadata": {},
   "outputs": [
    {
     "data": {
      "text/plain": [
       "Text(0.5, 0.98, 'Center slices for EPI image')"
      ]
     },
     "execution_count": 50,
     "metadata": {},
     "output_type": "execute_result"
    },
    {
     "data": {
      "image/png": "[encoded data removed]",
      "text/plain": [
       "<Figure size 432x288 with 3 Axes>"
      ]
     },
     "metadata": {
      "needs_background": "light"
     },
     "output_type": "display_data"
    }
   ],
   "source": [
    "slice_0 = training_image.get_fdata()[100, :, :]\n",
    "slice_1 = training_image.get_fdata()[:, 100, :]\n",
    "slice_2 = training_image.get_fdata()[:, :, 100]\n",
    "show_slices([slice_0, slice_1, slice_2])\n",
    "plt.suptitle(\"Center slices for EPI image\")  "
   ]
  },
  {
   "cell_type": "code",
   "execution_count": 52,
   "metadata": {},
   "outputs": [
    {
     "name": "stdout",
     "output_type": "stream",
     "text": [
      "(512, 512, 129)\n",
      "(256, 256)\n"
     ]
    }
   ],
   "source": [
    "print(training_mask.get_fdata().shape)\n",
    "print(training_mask.get_fdata()[::2, ::2, 27].shape)"
   ]
  },
  {
   "cell_type": "code",
   "execution_count": null,
   "metadata": {},
   "outputs": [],
   "source": [
    "# nii_first = nib.load(os.path.join(data_path, 'segmentation-31.nii'))\n",
    "# nii_last = nib.load(os.path.join(data_path, 'segmentation-130.nii'))\n",
    "\n",
    "# Take a look at the header\n",
    "# print(nii_first.header)"
   ]
  },
  {
   "cell_type": "markdown",
   "metadata": {},
   "source": [
    "Get and set individual fields in the header using dict (mapping-type) item access. For example:"
   ]
  },
  {
   "cell_type": "code",
   "execution_count": 25,
   "metadata": {},
   "outputs": [
    {
     "data": {
      "text/plain": [
       "array(0., dtype=float32)"
      ]
     },
     "execution_count": 25,
     "metadata": {},
     "output_type": "execute_result"
    }
   ],
   "source": [
    "livers.header['cal_max']"
   ]
  },
  {
   "cell_type": "markdown",
   "metadata": {},
   "source": [
    "Some header fields have set_ and get_ methods. Good practice to use them if available!"
   ]
  },
  {
   "cell_type": "code",
   "execution_count": null,
   "metadata": {},
   "outputs": [],
   "source": [
    "nii_first.header.get_base_affine()"
   ]
  },
  {
   "cell_type": "markdown",
   "metadata": {},
   "source": [
    "NIfTI images have an affine relating the voxel coordinates to world coordinates in RAS+ space.\n",
    "NIfTI header format can specify this affine in one of three ways:\n",
    "    1) sform affine\n",
    "    2) qform affine\n",
    "    3) fall-back header affine.\n",
    "Algorithm https://nipy.org/nibabel/nifti_images.html#choosing-image-affine chooses. "
   ]
  },
  {
   "cell_type": "code",
   "execution_count": null,
   "metadata": {},
   "outputs": [],
   "source": [
    "nii_first.affine"
   ]
  },
  {
   "cell_type": "code",
   "execution_count": 4,
   "metadata": {},
   "outputs": [],
   "source": [
    "imgs, masks = load_processed_data(file_processed_images= \"F:/MA/ircad-dataset/preprocessed/train/imgs_train.npy\",\n",
    "                                  file_processed_masks= \"F:/MA/ircad-dataset/preprocessed/train/masks_train.npy\")"
   ]
  },
  {
   "cell_type": "code",
   "execution_count": 6,
   "metadata": {},
   "outputs": [
    {
     "data": {
      "text/plain": [
       "array([[0, 0, 0, ..., 0, 0, 0],\n",
       "       [0, 0, 0, ..., 0, 0, 0],\n",
       "       [0, 0, 0, ..., 0, 0, 0],\n",
       "       ...,\n",
       "       [0, 0, 0, ..., 0, 0, 0],\n",
       "       [0, 0, 0, ..., 0, 0, 0],\n",
       "       [0, 0, 0, ..., 0, 0, 0]], dtype=uint8)"
      ]
     },
     "execution_count": 6,
     "metadata": {},
     "output_type": "execute_result"
    }
   ],
   "source": [
    "imgs[0]"
   ]
  },
  {
   "cell_type": "code",
   "execution_count": 7,
   "metadata": {},
   "outputs": [
    {
     "data": {
      "text/plain": [
       "array([[0, 0, 0, ..., 0, 0, 0],\n",
       "       [0, 0, 0, ..., 0, 0, 0],\n",
       "       [0, 0, 0, ..., 0, 0, 0],\n",
       "       ...,\n",
       "       [0, 0, 0, ..., 0, 0, 0],\n",
       "       [0, 0, 0, ..., 0, 0, 0],\n",
       "       [0, 0, 0, ..., 0, 0, 0]], dtype=uint8)"
      ]
     },
     "execution_count": 7,
     "metadata": {},
     "output_type": "execute_result"
    }
   ],
   "source": [
    "masks[0]"
   ]
  },
  {
   "cell_type": "code",
   "execution_count": null,
   "metadata": {},
   "outputs": [],
   "source": []
  }
 ],
 "metadata": {
  "kernelspec": {
   "display_name": "Python 3.10.4 ('vnen': venv)",
   "language": "python",
   "name": "python3"
  },
  "language_info": {
   "codemirror_mode": {
    "name": "ipython",
    "version": 3
   },
   "file_extension": ".py",
   "mimetype": "text/x-python",
   "name": "python",
   "nbconvert_exporter": "python",
   "pygments_lexer": "ipython3",
   "version": "3.10.4"
  },
  "orig_nbformat": 4,
  "vscode": {
   "interpreter": {
    "hash": "ccc80326033a43c39c620482b4bf82b79ee1f35cb9c2dd3a2f66d3ac99393c55"
   }
  }
 },
 "nbformat": 4,
 "nbformat_minor": 2
}
